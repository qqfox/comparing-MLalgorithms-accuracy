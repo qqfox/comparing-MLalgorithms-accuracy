{
 "cells": [
  {
   "cell_type": "code",
   "execution_count": null,
   "metadata": {
    "id": "0ZvimQUPWgN0"
   },
   "outputs": [],
   "source": [
    "import numpy as np\n",
    "import pandas as pd\n",
    "import matplotlib.pyplot as plt"
   ]
  },
  {
   "cell_type": "code",
   "execution_count": null,
   "metadata": {
    "colab": {
     "base_uri": "https://localhost:8080/",
     "height": 235
    },
    "executionInfo": {
     "elapsed": 1239,
     "status": "ok",
     "timestamp": 1609150656854,
     "user": {
      "displayName": "Quỳnh Fox",
      "photoUrl": "https://lh3.googleusercontent.com/a-/AOh14Gjnizcdqk_89X3fSu8Aodon4MKQeqqeo-3vDYcP3UQ=s64",
      "userId": "17640378166973282237"
     },
     "user_tz": -480
    },
    "id": "BTl9iQzeWo3i",
    "outputId": "3aefacb4-27ea-4576-b927-05798ca04fe0"
   },
   "outputs": [
    {
     "data": {
      "text/html": [
       "<div>\n",
       "<style scoped>\n",
       "    .dataframe tbody tr th:only-of-type {\n",
       "        vertical-align: middle;\n",
       "    }\n",
       "\n",
       "    .dataframe tbody tr th {\n",
       "        vertical-align: top;\n",
       "    }\n",
       "\n",
       "    .dataframe thead th {\n",
       "        text-align: right;\n",
       "    }\n",
       "</style>\n",
       "<table border=\"1\" class=\"dataframe\">\n",
       "  <thead>\n",
       "    <tr style=\"text-align: right;\">\n",
       "      <th></th>\n",
       "      <th>TIME</th>\n",
       "      <th>SL</th>\n",
       "      <th>EEG</th>\n",
       "      <th>BP</th>\n",
       "      <th>HR</th>\n",
       "      <th>CIRCLUATION</th>\n",
       "      <th>FALL</th>\n",
       "    </tr>\n",
       "    <tr>\n",
       "      <th>id</th>\n",
       "      <th></th>\n",
       "      <th></th>\n",
       "      <th></th>\n",
       "      <th></th>\n",
       "      <th></th>\n",
       "      <th></th>\n",
       "      <th></th>\n",
       "    </tr>\n",
       "  </thead>\n",
       "  <tbody>\n",
       "    <tr>\n",
       "      <th>11742</th>\n",
       "      <td>8560.23</td>\n",
       "      <td>30913.00</td>\n",
       "      <td>-3620.000</td>\n",
       "      <td>68</td>\n",
       "      <td>169</td>\n",
       "      <td>1631</td>\n",
       "      <td>0</td>\n",
       "    </tr>\n",
       "    <tr>\n",
       "      <th>8789</th>\n",
       "      <td>4355.00</td>\n",
       "      <td>2254.61</td>\n",
       "      <td>-995.567</td>\n",
       "      <td>22</td>\n",
       "      <td>54</td>\n",
       "      <td>165</td>\n",
       "      <td>0</td>\n",
       "    </tr>\n",
       "    <tr>\n",
       "      <th>7933</th>\n",
       "      <td>15175.00</td>\n",
       "      <td>80259.60</td>\n",
       "      <td>-7051.030</td>\n",
       "      <td>75</td>\n",
       "      <td>320</td>\n",
       "      <td>3466</td>\n",
       "      <td>0</td>\n",
       "    </tr>\n",
       "    <tr>\n",
       "      <th>8578</th>\n",
       "      <td>4899.97</td>\n",
       "      <td>2853.85</td>\n",
       "      <td>-1280.160</td>\n",
       "      <td>52</td>\n",
       "      <td>67</td>\n",
       "      <td>224</td>\n",
       "      <td>1</td>\n",
       "    </tr>\n",
       "    <tr>\n",
       "      <th>14515</th>\n",
       "      <td>4247.03</td>\n",
       "      <td>2239.69</td>\n",
       "      <td>-922.626</td>\n",
       "      <td>47</td>\n",
       "      <td>51</td>\n",
       "      <td>132</td>\n",
       "      <td>1</td>\n",
       "    </tr>\n",
       "  </tbody>\n",
       "</table>\n",
       "</div>"
      ],
      "text/plain": [
       "           TIME        SL       EEG  BP   HR  CIRCLUATION  FALL\n",
       "id                                                             \n",
       "11742   8560.23  30913.00 -3620.000  68  169         1631     0\n",
       "8789    4355.00   2254.61  -995.567  22   54          165     0\n",
       "7933   15175.00  80259.60 -7051.030  75  320         3466     0\n",
       "8578    4899.97   2853.85 -1280.160  52   67          224     1\n",
       "14515   4247.03   2239.69  -922.626  47   51          132     1"
      ]
     },
     "execution_count": 5,
     "metadata": {
      "tags": []
     },
     "output_type": "execute_result"
    }
   ],
   "source": [
    "df_train = pd.read_csv('fall_train.csv',index_col='id')\n",
    "df_train.head()"
   ]
  },
  {
   "cell_type": "code",
   "execution_count": null,
   "metadata": {
    "colab": {
     "base_uri": "https://localhost:8080/"
    },
    "executionInfo": {
     "elapsed": 1233,
     "status": "ok",
     "timestamp": 1609150656856,
     "user": {
      "displayName": "Quỳnh Fox",
      "photoUrl": "https://lh3.googleusercontent.com/a-/AOh14Gjnizcdqk_89X3fSu8Aodon4MKQeqqeo-3vDYcP3UQ=s64",
      "userId": "17640378166973282237"
     },
     "user_tz": -480
    },
    "id": "uD8rE21QXEkT",
    "outputId": "4214c288-3fc9-4d55-c01f-590a5007ead3"
   },
   "outputs": [
    {
     "data": {
      "text/plain": [
       "<bound method DataFrame.info of            TIME        SL       EEG  BP   HR  CIRCLUATION  FALL\n",
       "id                                                             \n",
       "11742   8560.23  30913.00 -3620.000  68  169         1631     0\n",
       "8789    4355.00   2254.61  -995.567  22   54          165     0\n",
       "7933   15175.00  80259.60 -7051.030  75  320         3466     0\n",
       "8578    4899.97   2853.85 -1280.160  52   67          224     1\n",
       "14515   4247.03   2239.69  -922.626  47   51          132     1\n",
       "...         ...       ...       ...  ..  ...          ...   ...\n",
       "13123   4034.87   1376.00  -646.000  15   54          101     0\n",
       "3264   12259.40  74795.20 -4110.000  30  249         3630     0\n",
       "9845    9824.58  29307.00 -4500.000  95  172         1518     0\n",
       "10799  13541.50  72357.10 -4800.300  75  262         3211     0\n",
       "2732    5377.27   4291.84  -906.000  15   88          292     0\n",
       "\n",
       "[11467 rows x 7 columns]>"
      ]
     },
     "execution_count": 6,
     "metadata": {
      "tags": []
     },
     "output_type": "execute_result"
    }
   ],
   "source": [
    "df_train.info"
   ]
  },
  {
   "cell_type": "code",
   "execution_count": null,
   "metadata": {
    "id": "EXJ_RvQPXeUt"
   },
   "outputs": [],
   "source": [
    "y = df_train.FALL\n",
    "x = df_train.drop(columns=['FALL'])"
   ]
  },
  {
   "cell_type": "code",
   "execution_count": null,
   "metadata": {
    "id": "qLOqCNJ6XT5v"
   },
   "outputs": [],
   "source": [
    "from sklearn.model_selection import train_test_split\n",
    "x_train, x_test, y_train, y_test = train_test_split(x,y, test_size=0.3, random_state=0)\n"
   ]
  },
  {
   "cell_type": "code",
   "execution_count": null,
   "metadata": {
    "id": "jCwGEV2KX9gz"
   },
   "outputs": [],
   "source": [
    "from sklearn.preprocessing import StandardScaler\n",
    "# Apply standard scaling to get optimized result\n",
    "ss = StandardScaler()\n",
    "#sc = MinMaxScaler()\n",
    "x_train = ss.fit_transform(x_train)\n",
    "x_test = ss.transform(x_test)"
   ]
  },
  {
   "cell_type": "code",
   "execution_count": null,
   "metadata": {
    "colab": {
     "base_uri": "https://localhost:8080/"
    },
    "executionInfo": {
     "elapsed": 2352,
     "status": "ok",
     "timestamp": 1609150657992,
     "user": {
      "displayName": "Quỳnh Fox",
      "photoUrl": "https://lh3.googleusercontent.com/a-/AOh14Gjnizcdqk_89X3fSu8Aodon4MKQeqqeo-3vDYcP3UQ=s64",
      "userId": "17640378166973282237"
     },
     "user_tz": -480
    },
    "id": "ChcsDJZ4dllm",
    "outputId": "6d94dce9-4e4f-4ea8-9657-91781deaab32"
   },
   "outputs": [
    {
     "data": {
      "text/plain": [
       "array([[-0.13815344, -0.22448801,  0.01856335, -0.60901741,  0.02349561,\n",
       "        -0.06371852],\n",
       "       [-1.30008857, -0.56314458,  0.03610735, -0.93612945, -1.1413512 ,\n",
       "        -0.70792449],\n",
       "       [-0.06414387, -0.37976847,  0.00866419, -0.85435144, -0.18967897,\n",
       "        -0.41442723],\n",
       "       ...,\n",
       "       [ 2.40833866,  1.44292456, -0.0226194 ,  0.96520924,  2.4673899 ,\n",
       "         1.39170976],\n",
       "       [-0.79146451, -0.4712668 ,  0.03262121, -0.67035092, -0.89010973,\n",
       "        -0.54424332],\n",
       "       [ 1.2530489 ,  0.53278273, -0.00697315,  1.08787625,  1.13504877,\n",
       "         0.74955623]])"
      ]
     },
     "execution_count": 10,
     "metadata": {
      "tags": []
     },
     "output_type": "execute_result"
    }
   ],
   "source": [
    "x_train"
   ]
  },
  {
   "cell_type": "markdown",
   "metadata": {
    "id": "ah3wYDdhYrOx"
   },
   "source": [
    "# Proceed with Modelling. We will use the following algorithms and check for best accuracy:\n",
    "\n",
    "##  1. Logistic Regression  \n",
    "0.78\n",
    "##  2. Decision Trees  \n",
    "0.8\n",
    "##  3. K-Nearest Neighbors  \n",
    "0.8049985\n",
    "##  4. Naive Bayes  \n",
    "0.29\n",
    "##  5. Random Forests\n",
    "##  6. Support Vector Machines\n",
    "##  7. Stochastic Gradient Decent Classifier"
   ]
  },
  {
   "cell_type": "markdown",
   "metadata": {
    "id": "ixm9AiQ1TEj5"
   },
   "source": []
  },
  {
   "cell_type": "code",
   "execution_count": null,
   "metadata": {
    "colab": {
     "base_uri": "https://localhost:8080/"
    },
    "executionInfo": {
     "elapsed": 2349,
     "status": "ok",
     "timestamp": 1609150657993,
     "user": {
      "displayName": "Quỳnh Fox",
      "photoUrl": "https://lh3.googleusercontent.com/a-/AOh14Gjnizcdqk_89X3fSu8Aodon4MKQeqqeo-3vDYcP3UQ=s64",
      "userId": "17640378166973282237"
     },
     "user_tz": -480
    },
    "id": "cI6dV5iuYgAV",
    "outputId": "8ece613f-9996-47ec-dfab-c1355c6deda3"
   },
   "outputs": [
    {
     "data": {
      "text/plain": [
       "KNeighborsClassifier(algorithm='auto', leaf_size=30, metric='minkowski',\n",
       "                     metric_params=None, n_jobs=None, n_neighbors=5, p=2,\n",
       "                     weights='uniform')"
      ]
     },
     "execution_count": 11,
     "metadata": {
      "tags": []
     },
     "output_type": "execute_result"
    }
   ],
   "source": [
    "#KNN\n",
    "from sklearn.neighbors import KNeighborsClassifier\n",
    "model = KNeighborsClassifier(n_neighbors=5)\n",
    "model.fit(x_train, y_train)"
   ]
  },
  {
   "cell_type": "code",
   "execution_count": null,
   "metadata": {
    "colab": {
     "base_uri": "https://localhost:8080/"
    },
    "executionInfo": {
     "elapsed": 2347,
     "status": "ok",
     "timestamp": 1609150657994,
     "user": {
      "displayName": "Quỳnh Fox",
      "photoUrl": "https://lh3.googleusercontent.com/a-/AOh14Gjnizcdqk_89X3fSu8Aodon4MKQeqqeo-3vDYcP3UQ=s64",
      "userId": "17640378166973282237"
     },
     "user_tz": -480
    },
    "id": "Vr550wDlY9G1",
    "outputId": "4514a440-156c-4afd-81a2-92aa39a462bd"
   },
   "outputs": [
    {
     "data": {
      "text/plain": [
       "0.8049985469340308"
      ]
     },
     "execution_count": 12,
     "metadata": {
      "tags": []
     },
     "output_type": "execute_result"
    }
   ],
   "source": [
    "from sklearn.metrics import accuracy_score\n",
    "y_pred = model.predict(x_test)\n",
    "accuracy_score(y_test, y_pred)"
   ]
  },
  {
   "cell_type": "markdown",
   "metadata": {
    "id": "sk0cRbVUZpnJ"
   },
   "source": [
    "#Load the testset"
   ]
  },
  {
   "cell_type": "code",
   "execution_count": null,
   "metadata": {
    "colab": {
     "base_uri": "https://localhost:8080/",
     "height": 235
    },
    "executionInfo": {
     "elapsed": 2345,
     "status": "ok",
     "timestamp": 1609150657995,
     "user": {
      "displayName": "Quỳnh Fox",
      "photoUrl": "https://lh3.googleusercontent.com/a-/AOh14Gjnizcdqk_89X3fSu8Aodon4MKQeqqeo-3vDYcP3UQ=s64",
      "userId": "17640378166973282237"
     },
     "user_tz": -480
    },
    "id": "BTlnDS5cZDDF",
    "outputId": "524dd86b-8181-4777-c0c9-7f18f9cdac41"
   },
   "outputs": [
    {
     "data": {
      "text/html": [
       "<div>\n",
       "<style scoped>\n",
       "    .dataframe tbody tr th:only-of-type {\n",
       "        vertical-align: middle;\n",
       "    }\n",
       "\n",
       "    .dataframe tbody tr th {\n",
       "        vertical-align: top;\n",
       "    }\n",
       "\n",
       "    .dataframe thead th {\n",
       "        text-align: right;\n",
       "    }\n",
       "</style>\n",
       "<table border=\"1\" class=\"dataframe\">\n",
       "  <thead>\n",
       "    <tr style=\"text-align: right;\">\n",
       "      <th></th>\n",
       "      <th>TIME</th>\n",
       "      <th>SL</th>\n",
       "      <th>EEG</th>\n",
       "      <th>BP</th>\n",
       "      <th>HR</th>\n",
       "      <th>CIRCLUATION</th>\n",
       "    </tr>\n",
       "    <tr>\n",
       "      <th>id</th>\n",
       "      <th></th>\n",
       "      <th></th>\n",
       "      <th></th>\n",
       "      <th></th>\n",
       "      <th></th>\n",
       "      <th></th>\n",
       "    </tr>\n",
       "  </thead>\n",
       "  <tbody>\n",
       "    <tr>\n",
       "      <th>3180</th>\n",
       "      <td>13814.30</td>\n",
       "      <td>67074.60</td>\n",
       "      <td>-3110.00</td>\n",
       "      <td>49</td>\n",
       "      <td>224</td>\n",
       "      <td>2192</td>\n",
       "    </tr>\n",
       "    <tr>\n",
       "      <th>12289</th>\n",
       "      <td>25836.50</td>\n",
       "      <td>496778.00</td>\n",
       "      <td>-16870.00</td>\n",
       "      <td>136</td>\n",
       "      <td>640</td>\n",
       "      <td>16053</td>\n",
       "    </tr>\n",
       "    <tr>\n",
       "      <th>7535</th>\n",
       "      <td>9796.62</td>\n",
       "      <td>43080.00</td>\n",
       "      <td>-3017.00</td>\n",
       "      <td>262</td>\n",
       "      <td>191</td>\n",
       "      <td>2254</td>\n",
       "    </tr>\n",
       "    <tr>\n",
       "      <th>598</th>\n",
       "      <td>8735.98</td>\n",
       "      <td>27778.90</td>\n",
       "      <td>-2826.17</td>\n",
       "      <td>94</td>\n",
       "      <td>156</td>\n",
       "      <td>1521</td>\n",
       "    </tr>\n",
       "    <tr>\n",
       "      <th>5136</th>\n",
       "      <td>6952.75</td>\n",
       "      <td>6799.33</td>\n",
       "      <td>-1210.00</td>\n",
       "      <td>27</td>\n",
       "      <td>119</td>\n",
       "      <td>395</td>\n",
       "    </tr>\n",
       "  </tbody>\n",
       "</table>\n",
       "</div>"
      ],
      "text/plain": [
       "           TIME         SL       EEG   BP   HR  CIRCLUATION\n",
       "id                                                         \n",
       "3180   13814.30   67074.60  -3110.00   49  224         2192\n",
       "12289  25836.50  496778.00 -16870.00  136  640        16053\n",
       "7535    9796.62   43080.00  -3017.00  262  191         2254\n",
       "598     8735.98   27778.90  -2826.17   94  156         1521\n",
       "5136    6952.75    6799.33  -1210.00   27  119          395"
      ]
     },
     "execution_count": 13,
     "metadata": {
      "tags": []
     },
     "output_type": "execute_result"
    }
   ],
   "source": [
    "df_test = pd.read_csv('fall_test.csv', index_col='id')\n",
    "df_test.head()"
   ]
  },
  {
   "cell_type": "code",
   "execution_count": null,
   "metadata": {
    "id": "BevYGiKkaEe9"
   },
   "outputs": [],
   "source": [
    "df_test1 = ss.transform(df_test)"
   ]
  },
  {
   "cell_type": "markdown",
   "metadata": {
    "id": "AtKYYg7VaRNz"
   },
   "source": [
    "##Apply our model on the test"
   ]
  },
  {
   "cell_type": "code",
   "execution_count": null,
   "metadata": {
    "colab": {
     "base_uri": "https://localhost:8080/"
    },
    "executionInfo": {
     "elapsed": 2724,
     "status": "ok",
     "timestamp": 1609150658382,
     "user": {
      "displayName": "Quỳnh Fox",
      "photoUrl": "https://lh3.googleusercontent.com/a-/AOh14Gjnizcdqk_89X3fSu8Aodon4MKQeqqeo-3vDYcP3UQ=s64",
      "userId": "17640378166973282237"
     },
     "user_tz": -480
    },
    "id": "IlqGvwjKaEcU",
    "outputId": "b6c85903-044c-47a0-b75b-21a1db43fbe8"
   },
   "outputs": [
    {
     "data": {
      "text/plain": [
       "array([1, 0, 0, ..., 0, 0, 0])"
      ]
     },
     "execution_count": 15,
     "metadata": {
      "tags": []
     },
     "output_type": "execute_result"
    }
   ],
   "source": [
    "test_y = model.predict(df_test1)\n",
    "test_y"
   ]
  },
  {
   "cell_type": "markdown",
   "metadata": {
    "id": "DHIbIHopao0U"
   },
   "source": [
    "#Construct the submission"
   ]
  },
  {
   "cell_type": "code",
   "execution_count": null,
   "metadata": {
    "colab": {
     "base_uri": "https://localhost:8080/"
    },
    "executionInfo": {
     "elapsed": 2722,
     "status": "ok",
     "timestamp": 1609150658383,
     "user": {
      "displayName": "Quỳnh Fox",
      "photoUrl": "https://lh3.googleusercontent.com/a-/AOh14Gjnizcdqk_89X3fSu8Aodon4MKQeqqeo-3vDYcP3UQ=s64",
      "userId": "17640378166973282237"
     },
     "user_tz": -480
    },
    "id": "5b10WXXiaEZw",
    "outputId": "41f44c7c-1384-4064-eb58-11498e6b1e36"
   },
   "outputs": [
    {
     "data": {
      "text/plain": [
       "Int64Index([ 3180, 12289,  7535,   598,  5136, 10760,  3909,  5619, 13297,\n",
       "             3266,\n",
       "            ...\n",
       "             8961, 15732,  3210,  1484, 14594,  4070,   728,  7109, 10912,\n",
       "             2708],\n",
       "           dtype='int64', name='id', length=4915)"
      ]
     },
     "execution_count": 16,
     "metadata": {
      "tags": []
     },
     "output_type": "execute_result"
    }
   ],
   "source": [
    "df_test.index #just for check"
   ]
  },
  {
   "cell_type": "code",
   "execution_count": null,
   "metadata": {
    "colab": {
     "base_uri": "https://localhost:8080/",
     "height": 204
    },
    "executionInfo": {
     "elapsed": 2719,
     "status": "ok",
     "timestamp": 1609150658384,
     "user": {
      "displayName": "Quỳnh Fox",
      "photoUrl": "https://lh3.googleusercontent.com/a-/AOh14Gjnizcdqk_89X3fSu8Aodon4MKQeqqeo-3vDYcP3UQ=s64",
      "userId": "17640378166973282237"
     },
     "user_tz": -480
    },
    "id": "k80VhLiZaEW7",
    "outputId": "90b466e3-acba-4db5-9d4c-1bfeaebd1f50"
   },
   "outputs": [
    {
     "data": {
      "text/html": [
       "<div>\n",
       "<style scoped>\n",
       "    .dataframe tbody tr th:only-of-type {\n",
       "        vertical-align: middle;\n",
       "    }\n",
       "\n",
       "    .dataframe tbody tr th {\n",
       "        vertical-align: top;\n",
       "    }\n",
       "\n",
       "    .dataframe thead th {\n",
       "        text-align: right;\n",
       "    }\n",
       "</style>\n",
       "<table border=\"1\" class=\"dataframe\">\n",
       "  <thead>\n",
       "    <tr style=\"text-align: right;\">\n",
       "      <th></th>\n",
       "      <th>id</th>\n",
       "      <th>FALL</th>\n",
       "    </tr>\n",
       "  </thead>\n",
       "  <tbody>\n",
       "    <tr>\n",
       "      <th>0</th>\n",
       "      <td>3180</td>\n",
       "      <td>1</td>\n",
       "    </tr>\n",
       "    <tr>\n",
       "      <th>1</th>\n",
       "      <td>12289</td>\n",
       "      <td>0</td>\n",
       "    </tr>\n",
       "    <tr>\n",
       "      <th>2</th>\n",
       "      <td>7535</td>\n",
       "      <td>0</td>\n",
       "    </tr>\n",
       "    <tr>\n",
       "      <th>3</th>\n",
       "      <td>598</td>\n",
       "      <td>0</td>\n",
       "    </tr>\n",
       "    <tr>\n",
       "      <th>4</th>\n",
       "      <td>5136</td>\n",
       "      <td>0</td>\n",
       "    </tr>\n",
       "  </tbody>\n",
       "</table>\n",
       "</div>"
      ],
      "text/plain": [
       "      id  FALL\n",
       "0   3180     1\n",
       "1  12289     0\n",
       "2   7535     0\n",
       "3    598     0\n",
       "4   5136     0"
      ]
     },
     "execution_count": 17,
     "metadata": {
      "tags": []
     },
     "output_type": "execute_result"
    }
   ],
   "source": [
    "submission = pd.DataFrame(\n",
    "    {'id':df_test.index, \n",
    "     'FALL': test_y}\n",
    ")\n",
    "submission.head()"
   ]
  },
  {
   "cell_type": "code",
   "execution_count": null,
   "metadata": {
    "id": "6BX-8WtkaEUN"
   },
   "outputs": [],
   "source": [
    "submission.to_csv('knn.csv', index=None)"
   ]
  },
  {
   "cell_type": "markdown",
   "metadata": {
    "id": "uCr9ulpbZmFu"
   },
   "source": [
    "#Check vs Logistic\n",
    "**0.78**"
   ]
  },
  {
   "cell_type": "code",
   "execution_count": null,
   "metadata": {
    "colab": {
     "base_uri": "https://localhost:8080/"
    },
    "executionInfo": {
     "elapsed": 2713,
     "status": "ok",
     "timestamp": 1609150658386,
     "user": {
      "displayName": "Quỳnh Fox",
      "photoUrl": "https://lh3.googleusercontent.com/a-/AOh14Gjnizcdqk_89X3fSu8Aodon4MKQeqqeo-3vDYcP3UQ=s64",
      "userId": "17640378166973282237"
     },
     "user_tz": -480
    },
    "id": "cv1VHfRXZnn0",
    "outputId": "84dc2613-7d53-46ac-af14-b4f7a8477e7f"
   },
   "outputs": [
    {
     "name": "stdout",
     "output_type": "stream",
     "text": [
      "Accuracy Score : 0.78\n"
     ]
    }
   ],
   "source": [
    "from sklearn.linear_model import LogisticRegression\n",
    "lr = LogisticRegression()\n",
    "lr.fit(x_train, y_train)\n",
    "lr_predict = lr.predict(x_test)\n",
    "\n",
    "# Print confusion matrix and accuracy score\n",
    "lr_acc_score = accuracy_score(y_test, lr_predict)\n",
    "print('Accuracy Score :', '%.2f' %lr_acc_score)"
   ]
  },
  {
   "cell_type": "markdown",
   "metadata": {
    "id": "6NoI8o1Wn6xM"
   },
   "source": [
    "##Check with Decision Tree\n",
    "**0.809**"
   ]
  },
  {
   "cell_type": "code",
   "execution_count": null,
   "metadata": {
    "id": "eM1eoD8em1dO"
   },
   "outputs": [],
   "source": [
    "from sklearn.tree import DecisionTreeClassifier\n",
    "from sklearn import metrics "
   ]
  },
  {
   "cell_type": "code",
   "execution_count": null,
   "metadata": {
    "colab": {
     "base_uri": "https://localhost:8080/"
    },
    "executionInfo": {
     "elapsed": 2707,
     "status": "ok",
     "timestamp": 1609150658387,
     "user": {
      "displayName": "Quỳnh Fox",
      "photoUrl": "https://lh3.googleusercontent.com/a-/AOh14Gjnizcdqk_89X3fSu8Aodon4MKQeqqeo-3vDYcP3UQ=s64",
      "userId": "17640378166973282237"
     },
     "user_tz": -480
    },
    "id": "gWUCu9Bgn9q8",
    "outputId": "e255902d-3c17-4cb2-84c9-47a7dd6d13f3"
   },
   "outputs": [
    {
     "name": "stdout",
     "output_type": "stream",
     "text": [
      "0.8076140656785818\n"
     ]
    }
   ],
   "source": [
    "from sklearn.tree import DecisionTreeClassifier\n",
    "from sklearn import metrics \n",
    "tree_model = DecisionTreeClassifier(criterion = 'gini', max_depth = 10)\n",
    "tree_model.fit(x_train, y_train)\n",
    "y_pred = tree_model.predict(x_test)\n",
    "acc = metrics.accuracy_score(y_test, y_pred)\n",
    "print(acc)"
   ]
  },
  {
   "cell_type": "markdown",
   "metadata": {
    "id": "LTCrrsQQqQFh"
   },
   "source": [
    "##Naive Baye"
   ]
  },
  {
   "cell_type": "code",
   "execution_count": null,
   "metadata": {
    "colab": {
     "base_uri": "https://localhost:8080/"
    },
    "executionInfo": {
     "elapsed": 2705,
     "status": "ok",
     "timestamp": 1609150658388,
     "user": {
      "displayName": "Quỳnh Fox",
      "photoUrl": "https://lh3.googleusercontent.com/a-/AOh14Gjnizcdqk_89X3fSu8Aodon4MKQeqqeo-3vDYcP3UQ=s64",
      "userId": "17640378166973282237"
     },
     "user_tz": -480
    },
    "id": "HVSIj1C5pwe-",
    "outputId": "dc655769-c244-4812-d08c-1f580dd6ee42"
   },
   "outputs": [
    {
     "name": "stdout",
     "output_type": "stream",
     "text": [
      "Accuracy Score : 0.29\n"
     ]
    }
   ],
   "source": [
    "from sklearn.naive_bayes import GaussianNB\n",
    "nb = GaussianNB()\n",
    "nb.fit(x_train,y_train)\n",
    "nb_predict = nb.predict(x_test)\n",
    "nb_acc_score = accuracy_score(y_test, nb_predict)\n",
    "print('Accuracy Score :', '%.2f' %nb_acc_score)"
   ]
  },
  {
   "cell_type": "markdown",
   "metadata": {
    "id": "6NlqevVbumEq"
   },
   "source": [
    "##SVC"
   ]
  },
  {
   "cell_type": "code",
   "execution_count": null,
   "metadata": {
    "colab": {
     "base_uri": "https://localhost:8080/"
    },
    "executionInfo": {
     "elapsed": 37840,
     "status": "ok",
     "timestamp": 1609150693527,
     "user": {
      "displayName": "Quỳnh Fox",
      "photoUrl": "https://lh3.googleusercontent.com/a-/AOh14Gjnizcdqk_89X3fSu8Aodon4MKQeqqeo-3vDYcP3UQ=s64",
      "userId": "17640378166973282237"
     },
     "user_tz": -480
    },
    "id": "QDV6AdystfLw",
    "outputId": "712f1f00-4611-4384-d23f-d7546e47dddb"
   },
   "outputs": [
    {
     "name": "stdout",
     "output_type": "stream",
     "text": [
      "Accuracy Score : 0.78\n"
     ]
    }
   ],
   "source": [
    "from sklearn.svm import SVC\n",
    "svc = SVC(random_state = 0, kernel='poly', degree=3, probability=True)\n",
    "svc.fit(x_train,y_train)\n",
    "svc_predict = svc.predict(x_test)\n",
    "svc_acc_score = accuracy_score(y_test, svc_predict)\n",
    "print('Accuracy Score :','%.2f' %svc_acc_score)"
   ]
  },
  {
   "cell_type": "code",
   "execution_count": null,
   "metadata": {
    "colab": {
     "base_uri": "https://localhost:8080/"
    },
    "executionInfo": {
     "elapsed": 37837,
     "status": "ok",
     "timestamp": 1609150693528,
     "user": {
      "displayName": "Quỳnh Fox",
      "photoUrl": "https://lh3.googleusercontent.com/a-/AOh14Gjnizcdqk_89X3fSu8Aodon4MKQeqqeo-3vDYcP3UQ=s64",
      "userId": "17640378166973282237"
     },
     "user_tz": -480
    },
    "id": "8anTQW4Ktv_E",
    "outputId": "57a5e890-0469-4756-c98f-604a5a258cc1"
   },
   "outputs": [
    {
     "name": "stdout",
     "output_type": "stream",
     "text": [
      "Accuracy Score : 0.78\n"
     ]
    }
   ],
   "source": [
    "# Perform SGDC\n",
    "from sklearn.linear_model import SGDClassifier\n",
    "sgdc = SGDClassifier()\n",
    "sgdc.fit(x_train,y_train)\n",
    "sgdc_predict = sgdc.predict(x_test)\n",
    "sgdc_acc_score = accuracy_score(y_test, sgdc_predict)\n",
    "print('Accuracy Score :','%.2f' %sgdc_acc_score)"
   ]
  },
  {
   "cell_type": "markdown",
   "metadata": {
    "id": "7V-dTIGJxkYE"
   },
   "source": [
    "#the best score from Random forest"
   ]
  },
  {
   "cell_type": "code",
   "execution_count": null,
   "metadata": {
    "id": "8Qdx-gjexnA2"
   },
   "outputs": [],
   "source": [
    "from sklearn.ensemble import RandomForestClassifier\n",
    "from sklearn.model_selection import GridSearchCV"
   ]
  },
  {
   "cell_type": "code",
   "execution_count": null,
   "metadata": {
    "colab": {
     "base_uri": "https://localhost:8080/"
    },
    "executionInfo": {
     "elapsed": 37832,
     "status": "ok",
     "timestamp": 1609150693529,
     "user": {
      "displayName": "Quỳnh Fox",
      "photoUrl": "https://lh3.googleusercontent.com/a-/AOh14Gjnizcdqk_89X3fSu8Aodon4MKQeqqeo-3vDYcP3UQ=s64",
      "userId": "17640378166973282237"
     },
     "user_tz": -480
    },
    "id": "DFBX2H5FzNut",
    "outputId": "45ce2229-b405-42d4-d486-7992cdb27233"
   },
   "outputs": [
    {
     "name": "stdout",
     "output_type": "stream",
     "text": [
      "Parameters currently in use:\n",
      "\n",
      "{'bootstrap': True,\n",
      " 'ccp_alpha': 0.0,\n",
      " 'class_weight': None,\n",
      " 'criterion': 'gini',\n",
      " 'max_depth': None,\n",
      " 'max_features': 'auto',\n",
      " 'max_leaf_nodes': None,\n",
      " 'max_samples': None,\n",
      " 'min_impurity_decrease': 0.0,\n",
      " 'min_impurity_split': None,\n",
      " 'min_samples_leaf': 1,\n",
      " 'min_samples_split': 2,\n",
      " 'min_weight_fraction_leaf': 0.0,\n",
      " 'n_estimators': 100,\n",
      " 'n_jobs': None,\n",
      " 'oob_score': False,\n",
      " 'random_state': 42,\n",
      " 'verbose': 0,\n",
      " 'warm_start': False}\n"
     ]
    }
   ],
   "source": [
    "rf = RandomForestClassifier(random_state = 42)\n",
    "from pprint import pprint\n",
    "# Look at parameters used by our current forest\n",
    "print('Parameters currently in use:\\n')\n",
    "pprint(rf.get_params())"
   ]
  },
  {
   "cell_type": "code",
   "execution_count": null,
   "metadata": {
    "colab": {
     "base_uri": "https://localhost:8080/"
    },
    "executionInfo": {
     "elapsed": 37829,
     "status": "ok",
     "timestamp": 1609150693530,
     "user": {
      "displayName": "Quỳnh Fox",
      "photoUrl": "https://lh3.googleusercontent.com/a-/AOh14Gjnizcdqk_89X3fSu8Aodon4MKQeqqeo-3vDYcP3UQ=s64",
      "userId": "17640378166973282237"
     },
     "user_tz": -480
    },
    "id": "S7-v2jN_xnlZ",
    "outputId": "715238ea-aed5-404d-ed74-fb4e67f1328c"
   },
   "outputs": [
    {
     "name": "stdout",
     "output_type": "stream",
     "text": [
      "{'bootstrap': [True, False],\n",
      " 'max_depth': [10, 20, 30, 40, 50, 60, 70, 80, 90, 100, 110, None],\n",
      " 'max_features': ['auto', 'sqrt'],\n",
      " 'min_samples_leaf': [1, 2, 4],\n",
      " 'min_samples_split': [2, 5, 10],\n",
      " 'n_estimators': [200, 400, 600, 800, 1000, 1200, 1400, 1600, 1800, 2000]}\n"
     ]
    }
   ],
   "source": [
    "#create a parameter grid to sample from during fitting:\n",
    "from sklearn.model_selection import RandomizedSearchCV\n",
    "# Number of trees in random forest\n",
    "n_estimators = [int(x) for x in np.linspace(start = 200, stop = 2000, num = 10)]\n",
    "# Number of features to consider at every split\n",
    "max_features = ['auto', 'sqrt']\n",
    "# Maximum number of levels in tree\n",
    "max_depth = [int(x) for x in np.linspace(10, 110, num = 11)]\n",
    "max_depth.append(None)\n",
    "# Minimum number of samples required to split a node\n",
    "min_samples_split = [2, 5, 10]\n",
    "# Minimum number of samples required at each leaf node\n",
    "min_samples_leaf = [1, 2, 4]\n",
    "# Method of selecting samples for training each tree\n",
    "bootstrap = [True, False]\n",
    "# Create the random grid\n",
    "random_grid = {'n_estimators': n_estimators,\n",
    "               'max_features': max_features,\n",
    "               'max_depth': max_depth,\n",
    "               'min_samples_split': min_samples_split,\n",
    "               'min_samples_leaf': min_samples_leaf,\n",
    "               'bootstrap': bootstrap}\n",
    "pprint(random_grid)\n"
   ]
  },
  {
   "cell_type": "code",
   "execution_count": null,
   "metadata": {
    "colab": {
     "base_uri": "https://localhost:8080/"
    },
    "executionInfo": {
     "elapsed": 2247376,
     "status": "ok",
     "timestamp": 1609152903081,
     "user": {
      "displayName": "Quỳnh Fox",
      "photoUrl": "https://lh3.googleusercontent.com/a-/AOh14Gjnizcdqk_89X3fSu8Aodon4MKQeqqeo-3vDYcP3UQ=s64",
      "userId": "17640378166973282237"
     },
     "user_tz": -480
    },
    "id": "v00dFI4M001s",
    "outputId": "9020bbd3-ca91-41ae-e2d1-b24d031faf1d"
   },
   "outputs": [
    {
     "name": "stdout",
     "output_type": "stream",
     "text": [
      "Fitting 3 folds for each of 100 candidates, totalling 300 fits\n"
     ]
    },
    {
     "name": "stderr",
     "output_type": "stream",
     "text": [
      "[Parallel(n_jobs=-1)]: Using backend LokyBackend with 2 concurrent workers.\n",
      "[Parallel(n_jobs=-1)]: Done  37 tasks      | elapsed:  4.8min\n",
      "[Parallel(n_jobs=-1)]: Done 158 tasks      | elapsed: 20.1min\n",
      "[Parallel(n_jobs=-1)]: Done 300 out of 300 | elapsed: 36.5min finished\n"
     ]
    },
    {
     "data": {
      "text/plain": [
       "RandomizedSearchCV(cv=3, error_score=nan,\n",
       "                   estimator=RandomForestClassifier(bootstrap=True,\n",
       "                                                    ccp_alpha=0.0,\n",
       "                                                    class_weight=None,\n",
       "                                                    criterion='gini',\n",
       "                                                    max_depth=None,\n",
       "                                                    max_features='auto',\n",
       "                                                    max_leaf_nodes=None,\n",
       "                                                    max_samples=None,\n",
       "                                                    min_impurity_decrease=0.0,\n",
       "                                                    min_impurity_split=None,\n",
       "                                                    min_samples_leaf=1,\n",
       "                                                    min_samples_split=2,\n",
       "                                                    min_weight_fraction_leaf=0.0,\n",
       "                                                    n_estimators=100,\n",
       "                                                    n_jobs...\n",
       "                   param_distributions={'bootstrap': [True, False],\n",
       "                                        'max_depth': [10, 20, 30, 40, 50, 60,\n",
       "                                                      70, 80, 90, 100, 110,\n",
       "                                                      None],\n",
       "                                        'max_features': ['auto', 'sqrt'],\n",
       "                                        'min_samples_leaf': [1, 2, 4],\n",
       "                                        'min_samples_split': [2, 5, 10],\n",
       "                                        'n_estimators': [200, 400, 600, 800,\n",
       "                                                         1000, 1200, 1400, 1600,\n",
       "                                                         1800, 2000]},\n",
       "                   pre_dispatch='2*n_jobs', random_state=42, refit=True,\n",
       "                   return_train_score=False, scoring=None, verbose=2)"
      ]
     },
     "execution_count": 28,
     "metadata": {
      "tags": []
     },
     "output_type": "execute_result"
    }
   ],
   "source": [
    "# Use the random grid to search for best hyperparameters\n",
    "# First create the base model to tune\n",
    "rf = RandomForestClassifier()\n",
    "# Random search of parameters, using 3 fold cross validation, \n",
    "# search across 100 different combinations, and use all available cores\n",
    "rf_random = RandomizedSearchCV(estimator = rf, param_distributions = random_grid, n_iter = 100, cv = 3, verbose=2, random_state=42, n_jobs = -1)\n",
    "# Fit the random search model\n",
    "rf_random.fit(x_train, y_train)"
   ]
  },
  {
   "cell_type": "code",
   "execution_count": null,
   "metadata": {
    "colab": {
     "base_uri": "https://localhost:8080/"
    },
    "executionInfo": {
     "elapsed": 2247375,
     "status": "ok",
     "timestamp": 1609152903083,
     "user": {
      "displayName": "Quỳnh Fox",
      "photoUrl": "https://lh3.googleusercontent.com/a-/AOh14Gjnizcdqk_89X3fSu8Aodon4MKQeqqeo-3vDYcP3UQ=s64",
      "userId": "17640378166973282237"
     },
     "user_tz": -480
    },
    "id": "t7rJXWT911dp",
    "outputId": "6f359d87-0a27-464c-87f0-4955149855e7"
   },
   "outputs": [
    {
     "data": {
      "text/plain": [
       "{'bootstrap': True,\n",
       " 'max_depth': None,\n",
       " 'max_features': 'auto',\n",
       " 'min_samples_leaf': 2,\n",
       " 'min_samples_split': 2,\n",
       " 'n_estimators': 1800}"
      ]
     },
     "execution_count": 29,
     "metadata": {
      "tags": []
     },
     "output_type": "execute_result"
    }
   ],
   "source": [
    "rf_random.best_params_"
   ]
  },
  {
   "cell_type": "code",
   "execution_count": null,
   "metadata": {
    "colab": {
     "base_uri": "https://localhost:8080/"
    },
    "executionInfo": {
     "elapsed": 20472,
     "status": "ok",
     "timestamp": 1609153173998,
     "user": {
      "displayName": "Quỳnh Fox",
      "photoUrl": "https://lh3.googleusercontent.com/a-/AOh14Gjnizcdqk_89X3fSu8Aodon4MKQeqqeo-3vDYcP3UQ=s64",
      "userId": "17640378166973282237"
     },
     "user_tz": -480
    },
    "id": "cxlrkjh-yNtB",
    "outputId": "bd2e601f-59cd-4574-db62-8be44113c362"
   },
   "outputs": [
    {
     "name": "stdout",
     "output_type": "stream",
     "text": [
      "Accuracy Score : 0.85\n"
     ]
    }
   ],
   "source": [
    "#model\n",
    "rf = RandomForestClassifier(bootstrap=True,\n",
    "                            max_depth=None,\n",
    "                            max_features='auto',\n",
    "                            min_samples_leaf=2,\n",
    "                            min_samples_split=2,\n",
    "                            n_estimators=1800)\n",
    "rf.fit(x_train,y_train)\n",
    "rf_predict = rf.predict(x_test)\n",
    "# Print confusion matrix and accuracy score\n",
    "rf_acc_score = accuracy_score(y_test, rf_predict)\n",
    "print('Accuracy Score :','%.2f' %rf_acc_score)"
   ]
  },
  {
   "cell_type": "code",
   "execution_count": null,
   "metadata": {
    "colab": {
     "base_uri": "https://localhost:8080/",
     "height": 235
    },
    "executionInfo": {
     "elapsed": 717,
     "status": "ok",
     "timestamp": 1609153200431,
     "user": {
      "displayName": "Quỳnh Fox",
      "photoUrl": "https://lh3.googleusercontent.com/a-/AOh14Gjnizcdqk_89X3fSu8Aodon4MKQeqqeo-3vDYcP3UQ=s64",
      "userId": "17640378166973282237"
     },
     "user_tz": -480
    },
    "id": "KwoSbzlAAQe2",
    "outputId": "6c56dfb4-f1cb-4ec1-b773-23263ea20f9e"
   },
   "outputs": [
    {
     "data": {
      "text/html": [
       "<div>\n",
       "<style scoped>\n",
       "    .dataframe tbody tr th:only-of-type {\n",
       "        vertical-align: middle;\n",
       "    }\n",
       "\n",
       "    .dataframe tbody tr th {\n",
       "        vertical-align: top;\n",
       "    }\n",
       "\n",
       "    .dataframe thead th {\n",
       "        text-align: right;\n",
       "    }\n",
       "</style>\n",
       "<table border=\"1\" class=\"dataframe\">\n",
       "  <thead>\n",
       "    <tr style=\"text-align: right;\">\n",
       "      <th></th>\n",
       "      <th>TIME</th>\n",
       "      <th>SL</th>\n",
       "      <th>EEG</th>\n",
       "      <th>BP</th>\n",
       "      <th>HR</th>\n",
       "      <th>CIRCLUATION</th>\n",
       "    </tr>\n",
       "    <tr>\n",
       "      <th>id</th>\n",
       "      <th></th>\n",
       "      <th></th>\n",
       "      <th></th>\n",
       "      <th></th>\n",
       "      <th></th>\n",
       "      <th></th>\n",
       "    </tr>\n",
       "  </thead>\n",
       "  <tbody>\n",
       "    <tr>\n",
       "      <th>3180</th>\n",
       "      <td>13814.30</td>\n",
       "      <td>67074.60</td>\n",
       "      <td>-3110.00</td>\n",
       "      <td>49</td>\n",
       "      <td>224</td>\n",
       "      <td>2192</td>\n",
       "    </tr>\n",
       "    <tr>\n",
       "      <th>12289</th>\n",
       "      <td>25836.50</td>\n",
       "      <td>496778.00</td>\n",
       "      <td>-16870.00</td>\n",
       "      <td>136</td>\n",
       "      <td>640</td>\n",
       "      <td>16053</td>\n",
       "    </tr>\n",
       "    <tr>\n",
       "      <th>7535</th>\n",
       "      <td>9796.62</td>\n",
       "      <td>43080.00</td>\n",
       "      <td>-3017.00</td>\n",
       "      <td>262</td>\n",
       "      <td>191</td>\n",
       "      <td>2254</td>\n",
       "    </tr>\n",
       "    <tr>\n",
       "      <th>598</th>\n",
       "      <td>8735.98</td>\n",
       "      <td>27778.90</td>\n",
       "      <td>-2826.17</td>\n",
       "      <td>94</td>\n",
       "      <td>156</td>\n",
       "      <td>1521</td>\n",
       "    </tr>\n",
       "    <tr>\n",
       "      <th>5136</th>\n",
       "      <td>6952.75</td>\n",
       "      <td>6799.33</td>\n",
       "      <td>-1210.00</td>\n",
       "      <td>27</td>\n",
       "      <td>119</td>\n",
       "      <td>395</td>\n",
       "    </tr>\n",
       "  </tbody>\n",
       "</table>\n",
       "</div>"
      ],
      "text/plain": [
       "           TIME         SL       EEG   BP   HR  CIRCLUATION\n",
       "id                                                         \n",
       "3180   13814.30   67074.60  -3110.00   49  224         2192\n",
       "12289  25836.50  496778.00 -16870.00  136  640        16053\n",
       "7535    9796.62   43080.00  -3017.00  262  191         2254\n",
       "598     8735.98   27778.90  -2826.17   94  156         1521\n",
       "5136    6952.75    6799.33  -1210.00   27  119          395"
      ]
     },
     "execution_count": 32,
     "metadata": {
      "tags": []
     },
     "output_type": "execute_result"
    }
   ],
   "source": [
    "df_test = pd.read_csv('fall_test.csv', index_col='id')\n",
    "df_test.head()"
   ]
  },
  {
   "cell_type": "code",
   "execution_count": null,
   "metadata": {
    "id": "lZD7W1iDAQe3"
   },
   "outputs": [],
   "source": [
    "df_test_RF = ss.transform(df_test)"
   ]
  },
  {
   "cell_type": "markdown",
   "metadata": {
    "id": "gxZd6mbuAQe3"
   },
   "source": [
    "##Apply our model on the test"
   ]
  },
  {
   "cell_type": "code",
   "execution_count": null,
   "metadata": {
    "colab": {
     "base_uri": "https://localhost:8080/"
    },
    "executionInfo": {
     "elapsed": 713,
     "status": "ok",
     "timestamp": 1609153305704,
     "user": {
      "displayName": "Quỳnh Fox",
      "photoUrl": "https://lh3.googleusercontent.com/a-/AOh14Gjnizcdqk_89X3fSu8Aodon4MKQeqqeo-3vDYcP3UQ=s64",
      "userId": "17640378166973282237"
     },
     "user_tz": -480
    },
    "id": "M6-JbPL7AQe3",
    "outputId": "6689c2fc-4f22-44c3-a1af-6fa39e7edae6"
   },
   "outputs": [
    {
     "data": {
      "text/plain": [
       "array([1, 0, 0, ..., 0, 0, 0])"
      ]
     },
     "execution_count": 38,
     "metadata": {
      "tags": []
     },
     "output_type": "execute_result"
    }
   ],
   "source": [
    "test_y = model.predict(df_test_RF)\n",
    "test_y"
   ]
  },
  {
   "cell_type": "markdown",
   "metadata": {
    "id": "9xF5YsSLAQe4"
   },
   "source": [
    "#Construct the submission"
   ]
  },
  {
   "cell_type": "code",
   "execution_count": null,
   "metadata": {
    "colab": {
     "base_uri": "https://localhost:8080/"
    },
    "executionInfo": {
     "elapsed": 852,
     "status": "ok",
     "timestamp": 1609153307615,
     "user": {
      "displayName": "Quỳnh Fox",
      "photoUrl": "https://lh3.googleusercontent.com/a-/AOh14Gjnizcdqk_89X3fSu8Aodon4MKQeqqeo-3vDYcP3UQ=s64",
      "userId": "17640378166973282237"
     },
     "user_tz": -480
    },
    "id": "X5S8veU0AQe4",
    "outputId": "432c7bce-ecb5-4a47-babe-97db7d6fa67b"
   },
   "outputs": [
    {
     "data": {
      "text/plain": [
       "Int64Index([ 3180, 12289,  7535,   598,  5136, 10760,  3909,  5619, 13297,\n",
       "             3266,\n",
       "            ...\n",
       "             8961, 15732,  3210,  1484, 14594,  4070,   728,  7109, 10912,\n",
       "             2708],\n",
       "           dtype='int64', name='id', length=4915)"
      ]
     },
     "execution_count": 39,
     "metadata": {
      "tags": []
     },
     "output_type": "execute_result"
    }
   ],
   "source": [
    "df_test.index #just for check"
   ]
  },
  {
   "cell_type": "code",
   "execution_count": null,
   "metadata": {
    "colab": {
     "base_uri": "https://localhost:8080/",
     "height": 204
    },
    "executionInfo": {
     "elapsed": 795,
     "status": "ok",
     "timestamp": 1609153309941,
     "user": {
      "displayName": "Quỳnh Fox",
      "photoUrl": "https://lh3.googleusercontent.com/a-/AOh14Gjnizcdqk_89X3fSu8Aodon4MKQeqqeo-3vDYcP3UQ=s64",
      "userId": "17640378166973282237"
     },
     "user_tz": -480
    },
    "id": "e9omdn0bAQe5",
    "outputId": "c36a3c04-8322-4c53-ba5d-40897c48f6f6"
   },
   "outputs": [
    {
     "data": {
      "text/html": [
       "<div>\n",
       "<style scoped>\n",
       "    .dataframe tbody tr th:only-of-type {\n",
       "        vertical-align: middle;\n",
       "    }\n",
       "\n",
       "    .dataframe tbody tr th {\n",
       "        vertical-align: top;\n",
       "    }\n",
       "\n",
       "    .dataframe thead th {\n",
       "        text-align: right;\n",
       "    }\n",
       "</style>\n",
       "<table border=\"1\" class=\"dataframe\">\n",
       "  <thead>\n",
       "    <tr style=\"text-align: right;\">\n",
       "      <th></th>\n",
       "      <th>id</th>\n",
       "      <th>FALL</th>\n",
       "    </tr>\n",
       "  </thead>\n",
       "  <tbody>\n",
       "    <tr>\n",
       "      <th>0</th>\n",
       "      <td>3180</td>\n",
       "      <td>1</td>\n",
       "    </tr>\n",
       "    <tr>\n",
       "      <th>1</th>\n",
       "      <td>12289</td>\n",
       "      <td>0</td>\n",
       "    </tr>\n",
       "    <tr>\n",
       "      <th>2</th>\n",
       "      <td>7535</td>\n",
       "      <td>0</td>\n",
       "    </tr>\n",
       "    <tr>\n",
       "      <th>3</th>\n",
       "      <td>598</td>\n",
       "      <td>0</td>\n",
       "    </tr>\n",
       "    <tr>\n",
       "      <th>4</th>\n",
       "      <td>5136</td>\n",
       "      <td>0</td>\n",
       "    </tr>\n",
       "  </tbody>\n",
       "</table>\n",
       "</div>"
      ],
      "text/plain": [
       "      id  FALL\n",
       "0   3180     1\n",
       "1  12289     0\n",
       "2   7535     0\n",
       "3    598     0\n",
       "4   5136     0"
      ]
     },
     "execution_count": 40,
     "metadata": {
      "tags": []
     },
     "output_type": "execute_result"
    }
   ],
   "source": [
    "submission = pd.DataFrame(\n",
    "    {'id':df_test.index, \n",
    "     'FALL': test_y}\n",
    ")\n",
    "submission.head()"
   ]
  },
  {
   "cell_type": "code",
   "execution_count": null,
   "metadata": {
    "id": "gwGCkR6vAQe5"
   },
   "outputs": [],
   "source": [
    "submission.to_csv('RandomForest_085acc.csv', index=None)"
   ]
  },
  {
   "cell_type": "code",
   "execution_count": null,
   "metadata": {
    "id": "f42ntUb3A1oE"
   },
   "outputs": [],
   "source": []
  }
 ],
 "metadata": {
  "accelerator": "GPU",
  "colab": {
   "collapsed_sections": [],
   "name": "Copy of Full check option_F108143135_HW1.ipynb",
   "provenance": [
    {
     "file_id": "1MF9Xl6139fFolpAcOo1F9WBBxDRpopeI",
     "timestamp": 1609742707205
    },
    {
     "file_id": "17-UKfmtfmdEy69ND05XVTNQlijQN3J5u",
     "timestamp": 1609153615046
    }
   ]
  },
  "kernelspec": {
   "display_name": "Python 3",
   "language": "python",
   "name": "python3"
  },
  "language_info": {
   "codemirror_mode": {
    "name": "ipython",
    "version": 3
   },
   "file_extension": ".py",
   "mimetype": "text/x-python",
   "name": "python",
   "nbconvert_exporter": "python",
   "pygments_lexer": "ipython3",
   "version": "3.8.3"
  }
 },
 "nbformat": 4,
 "nbformat_minor": 4
}
